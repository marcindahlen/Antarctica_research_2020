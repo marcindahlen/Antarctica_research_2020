{
 "cells": [
  {
   "cell_type": "code",
   "execution_count": 134,
   "metadata": {},
   "outputs": [],
   "source": [
    "import tensorflow   # machine learning library\n",
    "import stellargraph   # tools for graphs\n",
    "import networkx   # more tools for graphs\n",
    "import numpy   # scientific computation and variable formats library\n",
    "import matplotlib   # all plotting except graphs\n",
    "import plotly.graph_objects as plotly   # plotting graphs\n",
    "import os.path   # interaction with  files and filenames\n",
    "import pandas   # library for loading and organising data\n",
    "import datetime   # calendar and dates handling\n",
    "import re   # I'm using regex, apologies"
   ]
  },
  {
   "cell_type": "markdown",
   "metadata": {},
   "source": [
    "Please notice, to open jupyter in custom directory use:\n",
    ">jupyter notebook --notebook-dir=[your_directory]"
   ]
  },
  {
   "cell_type": "markdown",
   "metadata": {},
   "source": [
    "Expecting file hierarchy:\n",
    "    <ul>root/\n",
    "        <li>Antarctica_research_2020/\n",
    "            <ul>.git/</ul>\n",
    "            <ul>.gitignore</ul>\n",
    "            <ul>readme.md</ul>\n",
    "            <ul>notebook.ipynb</ul></li>\n",
    "        <li>data/\n",
    "            <ul>Sesja 1.xlsx</ul>\n",
    "            <ul>.</ul>\n",
    "            <ul>.</ul>\n",
    "            <ul>Sesja 26.xlsx</ul></li>\n",
    "    </ul>"
   ]
  },
  {
   "cell_type": "code",
   "execution_count": 148,
   "metadata": {},
   "outputs": [],
   "source": [
    "# Let me write in advantage examined people occupations:\n",
    "ppl_professions = {1: \"fisherman\",\n",
    "                  2: \"cook\",\n",
    "                  3: \"medic\",\n",
    "                  4: \"deputy technical manager\",\n",
    "                  5: \"carpenter\",\n",
    "                  6: \"driver\",   # UWAGA - nr 6 przybył na stację 25.04.79r\n",
    "                  7: \"technician\",\n",
    "                  8: \"chemist\",\n",
    "                  9: \"meteorologist\",\n",
    "                  10: \"ichthyologist\",   # study of fish\n",
    "                  11: \"magnetologist\",\n",
    "                  12: \"seismologist\",\n",
    "                  13: \"biologist\",\n",
    "                  14: \"electrician\",\n",
    "                  15: \"radiotelegraphist\",\n",
    "                  16: \"psychologist\",\n",
    "                  17: \"electronics engineer\",\n",
    "                  18: \"meteorologist\",\n",
    "                  19: \"microbiologist\",\n",
    "                  20: \"parasitologist\",\n",
    "                  21: \"botanist\"\n",
    "                  }"
   ]
  },
  {
   "cell_type": "markdown",
   "metadata": {},
   "source": [
    "### First, let me load and adjust the given data:"
   ]
  },
  {
   "cell_type": "code",
   "execution_count": 136,
   "metadata": {},
   "outputs": [
    {
     "name": "stdout",
     "output_type": "stream",
     "text": [
      "['Sesja 1.xlsx', 'Sesja 10.xlsx', 'Sesja 11.xlsx', 'Sesja 12.xlsx', 'Sesja 13.xlsx', 'Sesja 14.xlsx', 'Sesja 15.xlsx', 'Sesja 16.xlsx', 'Sesja 17.xlsx', 'Sesja 18.xlsx', 'Sesja 19.xlsx', 'Sesja 2.xlsx', 'Sesja 20.xlsx', 'Sesja 21.xlsx', 'Sesja 22.xlsx', 'Sesja 23.xlsx', 'Sesja 24.xlsx', 'Sesja 25.xlsx', 'Sesja 26.xlsx', 'Sesja 3.xlsx', 'Sesja 4.xlsx', 'Sesja 5.xlsx', 'Sesja 6.xlsx', 'Sesja 7.xlsx', 'Sesja 8.xlsx', 'Sesja 9.xlsx']\n"
     ]
    }
   ],
   "source": [
    "data_path = \"../data/\"\n",
    "file_list = [name for name in os.listdir(data_path)]\n",
    "print(file_list)"
   ]
  },
  {
   "cell_type": "code",
   "execution_count": 137,
   "metadata": {},
   "outputs": [
    {
     "name": "stdout",
     "output_type": "stream",
     "text": [
      "{1: 'Sesja 1.xlsx', 2: 'Sesja 2.xlsx', 3: 'Sesja 3.xlsx', 4: 'Sesja 4.xlsx', 5: 'Sesja 5.xlsx', 6: 'Sesja 6.xlsx', 7: 'Sesja 7.xlsx', 8: 'Sesja 8.xlsx', 9: 'Sesja 9.xlsx', 10: 'Sesja 10.xlsx', 11: 'Sesja 11.xlsx', 12: 'Sesja 12.xlsx', 13: 'Sesja 13.xlsx', 14: 'Sesja 14.xlsx', 15: 'Sesja 15.xlsx', 16: 'Sesja 16.xlsx', 17: 'Sesja 17.xlsx', 18: 'Sesja 18.xlsx', 19: 'Sesja 19.xlsx', 20: 'Sesja 20.xlsx', 21: 'Sesja 21.xlsx', 22: 'Sesja 22.xlsx', 23: 'Sesja 23.xlsx', 24: 'Sesja 24.xlsx', 25: 'Sesja 25.xlsx', 26: 'Sesja 26.xlsx'}\n"
     ]
    }
   ],
   "source": [
    "# Sessions order is important, let me get sorted file info\n",
    "sorted_filenames = dict()\n",
    "for name in file_list:\n",
    "    list_of_digits = list(map(int, filter(str.isdigit, name)))\n",
    "    sorted_filenames[name] = list_of_digits[0] if len(list_of_digits) == 1 else list_of_digits[1] + list_of_digits[0]*10\n",
    "sorted_filenames = sorted(sorted_filenames.items(), key=lambda el: el[1])\n",
    "sorted_filenames = {val: key for key, val in sorted_filenames}\n",
    "print(sorted_filenames)"
   ]
  },
  {
   "cell_type": "code",
   "execution_count": 138,
   "metadata": {},
   "outputs": [],
   "source": [
    "# Loading data\n",
    "data_dict = dict()\n",
    "for key, val in sorted_filenames.items():\n",
    "    data_dict[key] = pandas.read_excel(data_path + val, header=None, dtype=object)"
   ]
  },
  {
   "cell_type": "code",
   "execution_count": 139,
   "metadata": {},
   "outputs": [
    {
     "data": {
      "text/html": [
       "<div>\n",
       "<style scoped>\n",
       "    .dataframe tbody tr th:only-of-type {\n",
       "        vertical-align: middle;\n",
       "    }\n",
       "\n",
       "    .dataframe tbody tr th {\n",
       "        vertical-align: top;\n",
       "    }\n",
       "\n",
       "    .dataframe thead th {\n",
       "        text-align: right;\n",
       "    }\n",
       "</style>\n",
       "<table border=\"1\" class=\"dataframe\">\n",
       "  <thead>\n",
       "    <tr style=\"text-align: right;\">\n",
       "      <th></th>\n",
       "      <th>0</th>\n",
       "      <th>1</th>\n",
       "      <th>2</th>\n",
       "      <th>3</th>\n",
       "      <th>4</th>\n",
       "      <th>5</th>\n",
       "      <th>6</th>\n",
       "      <th>7</th>\n",
       "      <th>8</th>\n",
       "      <th>9</th>\n",
       "      <th>...</th>\n",
       "      <th>12</th>\n",
       "      <th>13</th>\n",
       "      <th>14</th>\n",
       "      <th>15</th>\n",
       "      <th>16</th>\n",
       "      <th>17</th>\n",
       "      <th>18</th>\n",
       "      <th>19</th>\n",
       "      <th>20</th>\n",
       "      <th>21</th>\n",
       "    </tr>\n",
       "  </thead>\n",
       "  <tbody>\n",
       "    <tr>\n",
       "      <th>0</th>\n",
       "      <td>NaN</td>\n",
       "      <td>Pozycja osoby</td>\n",
       "      <td>NaN</td>\n",
       "      <td>NaN</td>\n",
       "      <td>NaN</td>\n",
       "      <td>NaN</td>\n",
       "      <td>NaN</td>\n",
       "      <td>NaN</td>\n",
       "      <td>NaN</td>\n",
       "      <td>NaN</td>\n",
       "      <td>...</td>\n",
       "      <td>N = 20</td>\n",
       "      <td>NaN</td>\n",
       "      <td>NaN</td>\n",
       "      <td>1979-03-25 00:00:00</td>\n",
       "      <td>NaN</td>\n",
       "      <td>NaN</td>\n",
       "      <td>NaN</td>\n",
       "      <td>ZIM7</td>\n",
       "      <td>NaN</td>\n",
       "      <td>NaN</td>\n",
       "    </tr>\n",
       "    <tr>\n",
       "      <th>1</th>\n",
       "      <td>Nr O.B.</td>\n",
       "      <td>1</td>\n",
       "      <td>2</td>\n",
       "      <td>3</td>\n",
       "      <td>4</td>\n",
       "      <td>5</td>\n",
       "      <td>6</td>\n",
       "      <td>7</td>\n",
       "      <td>8</td>\n",
       "      <td>9</td>\n",
       "      <td>...</td>\n",
       "      <td>12</td>\n",
       "      <td>13</td>\n",
       "      <td>14</td>\n",
       "      <td>15</td>\n",
       "      <td>16</td>\n",
       "      <td>17</td>\n",
       "      <td>18</td>\n",
       "      <td>19</td>\n",
       "      <td>20</td>\n",
       "      <td>21</td>\n",
       "    </tr>\n",
       "    <tr>\n",
       "      <th>2</th>\n",
       "      <td>1</td>\n",
       "      <td>2519</td>\n",
       "      <td>2516</td>\n",
       "      <td>3028</td>\n",
       "      <td>2730</td>\n",
       "      <td>3010</td>\n",
       "      <td>x</td>\n",
       "      <td>1521</td>\n",
       "      <td>2221</td>\n",
       "      <td>2523</td>\n",
       "      <td>...</td>\n",
       "      <td>2110</td>\n",
       "      <td>2117</td>\n",
       "      <td>2027</td>\n",
       "      <td>2322</td>\n",
       "      <td>2618</td>\n",
       "      <td>2710</td>\n",
       "      <td>3015</td>\n",
       "      <td>1830</td>\n",
       "      <td>2332</td>\n",
       "      <td>2920</td>\n",
       "    </tr>\n",
       "    <tr>\n",
       "      <th>3</th>\n",
       "      <td>2</td>\n",
       "      <td>2607</td>\n",
       "      <td>2200</td>\n",
       "      <td>2410</td>\n",
       "      <td>1507</td>\n",
       "      <td>x</td>\n",
       "      <td>x</td>\n",
       "      <td>2009</td>\n",
       "      <td>1813</td>\n",
       "      <td>2516</td>\n",
       "      <td>...</td>\n",
       "      <td>3125</td>\n",
       "      <td>1511</td>\n",
       "      <td>3417</td>\n",
       "      <td>2403</td>\n",
       "      <td>3113</td>\n",
       "      <td>2520</td>\n",
       "      <td>1514</td>\n",
       "      <td>2625</td>\n",
       "      <td>1212</td>\n",
       "      <td>1219</td>\n",
       "    </tr>\n",
       "  </tbody>\n",
       "</table>\n",
       "<p>4 rows × 22 columns</p>\n",
       "</div>"
      ],
      "text/plain": [
       "        0              1     2     3     4     5    6     7     8     9   ...  \\\n",
       "0      NaN  Pozycja osoby   NaN   NaN   NaN   NaN  NaN   NaN   NaN   NaN  ...   \n",
       "1  Nr O.B.              1     2     3     4     5    6     7     8     9  ...   \n",
       "2        1           2519  2516  3028  2730  3010    x  1521  2221  2523  ...   \n",
       "3        2           2607  2200  2410  1507     x    x  2009  1813  2516  ...   \n",
       "\n",
       "       12    13    14                   15    16    17    18    19    20    21  \n",
       "0  N = 20   NaN   NaN  1979-03-25 00:00:00   NaN   NaN   NaN  ZIM7   NaN   NaN  \n",
       "1      12    13    14                   15    16    17    18    19    20    21  \n",
       "2    2110  2117  2027                 2322  2618  2710  3015  1830  2332  2920  \n",
       "3    3125  1511  3417                 2403  3113  2520  1514  2625  1212  1219  \n",
       "\n",
       "[4 rows x 22 columns]"
      ]
     },
     "execution_count": 139,
     "metadata": {},
     "output_type": "execute_result"
    }
   ],
   "source": [
    "rand_int = int(numpy.random.rand() * 26) + 1\n",
    "data_dict[rand_int].head(4)\n",
    "# An example:"
   ]
  },
  {
   "cell_type": "markdown",
   "metadata": {},
   "source": [
    "The target format for data is a stellargraph graph for each session (session -> data recording occuring every two week). But before that, let me read the data into intermediate objects: Session(s) and Person(s).\n",
    "    Session will hold data in respect to each source data file, organising entries into lists of coordinates marked by examined people - one list for one man for each session.\n",
    "    Person will organise data in respect to a single individual. Each* individual hold data for all 26 sessions, for convienience repeated in several arrangements.\n",
    "    \n",
    "*except mr. 6th, since he arrived later"
   ]
  },
  {
   "cell_type": "code",
   "execution_count": 146,
   "metadata": {},
   "outputs": [],
   "source": [
    "class Session(object):\n",
    "    def __init__(self, raw_session_data):\n",
    "        self.date = self.find_date(raw_session_data)\n",
    "        self.relations = self.get_relations(raw_session_data) # dictionary of lists of tuples - column_number : [(x1, y1), (x2, y2), ...]\n",
    "    \n",
    "    def get_relations(self, raw_session_data) -> dict:\n",
    "        rels = dict()\n",
    "        col_no = len(ppl_professions)\n",
    "        rels = {x: [] for x in ppl_professions.keys()}\n",
    "        for person in range(2, col_no + 2):\n",
    "            for entry in range(1, col_no + 1):\n",
    "                string_value = str(raw_session_data.iloc[person, entry])\n",
    "                subject_no = raw_session_data.iloc[person, 0]\n",
    "                data_point = self.tuple_from_string(string_value)\n",
    "                rels[subject_no].append(data_point)\n",
    "        return rels\n",
    "    \n",
    "    def tuple_from_string(self, string) -> tuple:\n",
    "        if string == 'nan':\n",
    "            return None\n",
    "        elif len(string) == 4:\n",
    "            x = int(string[1]) + int(string[0]) * 10\n",
    "            y = int(string[3]) + int(string[2]) * 10\n",
    "            return (x, y)\n",
    "        elif len(string) == 3:\n",
    "            x = int(string[0])\n",
    "            y = int(string[2]) + int(string[1]) * 10\n",
    "            return (x, y)\n",
    "        else:\n",
    "            return None\n",
    "    \n",
    "    def find_date(self, raw_session_data) -> str:\n",
    "        for key, col in raw_session_data.iteritems():\n",
    "            for val in col:\n",
    "                regex = re.search(r\"\\d{1,2}.\\d{1,2}.\\d{4}|\\d{4}.\\d{1,2}.\\d{1,2}\", str(val))\n",
    "                if regex:\n",
    "                    return regex.group()\n",
    "                \n",
    "    def __str__(self):\n",
    "        random = int(numpy.random.rand() * len(ppl_professions))\n",
    "        return \"Session from \" + self.date + \" example entry: \" + str(self.relations[random]) + \" for \" + str(random)"
   ]
  },
  {
   "cell_type": "code",
   "execution_count": 147,
   "metadata": {},
   "outputs": [
    {
     "name": "stdout",
     "output_type": "stream",
     "text": [
      "Session from 1980-01-10 example entry: [(33, 19), (32, 24), (28, 27), (29, 13), (25, 8), (22, 12), (28, 20), (24, 27), (23, 18), (16, 18), (18, 33), (20, 24), (15, 27), (15, 8), (9, 21), (25, 37), (20, 3), (32, 8), (8, 11), (9, 31), (4, 23)] for 9\n"
     ]
    }
   ],
   "source": [
    "session_data = [Session(e) for e in data_dict.values()]\n",
    "# An example entry:\n",
    "print(session_data[-1])"
   ]
  },
  {
   "cell_type": "code",
   "execution_count": 142,
   "metadata": {},
   "outputs": [],
   "source": [
    "class Person(object):\n",
    "    def __init__(self, person_no, particular_person_profession, session_data):\n",
    "        self.person_no = person_no\n",
    "        self.profession = particular_person_profession\n",
    "        self.sessions_dict = self.get_all_relations(session_data)\n",
    "        self.relations_vector = self.get_all_relative_vectors(self.sessions_dict)\n",
    "        self.distances = self.get_all_distances(self.relations_vector)\n",
    "        \n",
    "    def get_all_relations(self, session_data) -> dict:\n",
    "        out_dict = {x: [] for x in sorted_filenames.keys()}\n",
    "        for no in out_dict.keys():\n",
    "            out_dict[no] = session_data[no - 1].relations[self.person_no]\n",
    "        return out_dict\n",
    "    \n",
    "    def get_all_relative_vectors(self, relations) -> dict:\n",
    "        out_dict = {x: [] for x in sorted_filenames.keys()}\n",
    "        for no, session in relations.items():\n",
    "            for relation in session:\n",
    "                if relation is not None and session[self.person_no - 1] is not None:\n",
    "                    out_dict[no].append((relation[0] - session[self.person_no - 1][0], relation[1] - session[self.person_no - 1][1]))\n",
    "                else:\n",
    "                    out_dict[no].append(None)\n",
    "        return out_dict\n",
    "    \n",
    "    def get_all_distances(self, vectors) -> dict:\n",
    "        out_dict = {x: [] for x in sorted_filenames.keys()}\n",
    "        for no, session in vectors.items():\n",
    "            for vector in session:\n",
    "                if vector is not None:\n",
    "                    out_dict[no].append(self.calc_distance(vector[0], vector[1]))\n",
    "                else:\n",
    "                    out_dict[no].append(None)\n",
    "        return out_dict\n",
    "    \n",
    "    def calc_distance(self, a, b) -> float:\n",
    "        return numpy.sqrt(a ** 2 + b ** 2)\n",
    "    \n",
    "    def __str__(self):\n",
    "        rand_session = int(numpy.random.rand() * 26)\n",
    "        return \"No. \" + str(self.person_no) + \" being \" + self.profession + \" with distances: \" + str(self.distances[rand_session]) + \" for session \" + str(rand_session)"
   ]
  },
  {
   "cell_type": "code",
   "execution_count": 143,
   "metadata": {},
   "outputs": [
    {
     "name": "stdout",
     "output_type": "stream",
     "text": [
      "No. 18 being meteorologist with distances: [2.8284271247461903, 4.242640687119285, 8.246211251235321, 8.54400374531753, 6.082762530298219, None, 9.219544457292887, 1.4142135623730951, 3.0, 4.123105625617661, 7.0710678118654755, 5.830951894845301, 4.47213595499958, 5.0, 2.23606797749979, 4.242640687119285, 6.082762530298219, 0.0, 3.605551275463989, 1.0, 3.0] for session 8\n"
     ]
    }
   ],
   "source": [
    "people_data = [Person(no, profession, session_data) for no, profession in ppl_professions.items()]\n",
    "# An example:\n",
    "rand_ppl = int(numpy.random.rand() * 21)\n",
    "print(people_data[rand_ppl])"
   ]
  },
  {
   "cell_type": "markdown",
   "metadata": {},
   "source": [
    "### Having defined sessions and persons, now I want to answer following questions:"
   ]
  },
  {
   "cell_type": "markdown",
   "metadata": {},
   "source": [
    "What was general tendency of marking others on charts?\n",
    "By general tendency I understand a value telling me if people were viewing others as closer or more far away after time passed. I'm going to get a mean distance for each session for each person and see how those changed, and check the slope of linear approximation of given sessions' mean values."
   ]
  },
  {
   "cell_type": "code",
   "execution_count": 144,
   "metadata": {},
   "outputs": [
    {
     "name": "stdout",
     "output_type": "stream",
     "text": [
      "fisherman                 |   5.1634 |  -0.0619\n",
      "cook                      |  18.3722 |   0.2323\n",
      "medic                     |   4.4377 |   0.0976\n",
      "deputy technical manager  |   6.6229 |   0.1470\n",
      "carpenter                 |   4.6362 |   0.0078\n",
      "driver                    |   8.1935 |  -0.2298\n",
      "technician                |   9.3022 |  -0.0019\n",
      "chemist                   |  12.3395 |  -0.0305\n",
      "meteorologist             |  10.1716 |   0.2147\n",
      "ichthyologist             |   5.7443 |   0.0561\n",
      "magnetologist             |  10.0467 |  -0.1854\n",
      "seismologist              |   9.1061 |   0.1680\n",
      "biologist                 |   4.3112 |   0.0771\n",
      "electrician               |  11.1674 |  -0.0010\n",
      "radiotelegraphist         |  13.6522 |   0.1113\n",
      "psychologist              |   6.3800 |   0.0630\n",
      "electronics engineer      |   4.5907 |   0.0967\n",
      "meteorologist             |   4.9442 |   0.0114\n",
      "microbiologist            |   4.9219 |   0.0203\n",
      "parasitologist            |   8.0027 |   0.3074\n",
      "botanist                  |   9.6682 |  -0.0811\n",
      "\n",
      "Average change for mean distance slope is  0.04853139922964498\n",
      "Standard deviation for mean distance slope is  0.1269267620680697\n"
     ]
    }
   ],
   "source": [
    "mean_distance_per_session_per_man = [[(sum(filter(None, distances))/(len(distances))) if len(distances) != 0 else None for distances in man.distances.values()] for man in people_data]\n",
    "mean_distance_slope_for_man = []\n",
    "mean_distances_for_man = []\n",
    "mean_values_of_mean_distance_for_man = []\n",
    "for y in mean_distance_per_session_per_man:\n",
    "    y = list(filter(None, y))\n",
    "    if y:\n",
    "        x = range(len(y))\n",
    "        mean_distances_for_man.append(y)\n",
    "        a, b = numpy.polyfit(x, y, deg=1)   # y = a * x + b (approximated by least squares polynomial fit)\n",
    "        mean_distance_slope_for_man.append(a)\n",
    "        mean_values_of_mean_distance_for_man.append(numpy.mean(y))\n",
    "        \n",
    "findings = zip(ppl_professions.values(), mean_values_of_mean_distance_for_man, mean_distance_slope_for_man)\n",
    "for entry in findings:\n",
    "    print(f\"{entry[0]:25} | {entry[1]:8.4f} | {entry[2]:8.4f}\")\n",
    "print()\n",
    "print(\"Average change for mean distance slope is \", numpy.mean(mean_distance_slope_for_man))\n",
    "print(\"Standard deviation for mean distance slope is \", numpy.std(mean_distance_slope_for_man))\n",
    "    \n",
    "# Occupation, mean distance and distance change tendency (above zero being more distancing)"
   ]
  },
  {
   "cell_type": "markdown",
   "metadata": {},
   "source": [
    "To my surprise, it looks like people regarded themselves more distant to each other with each passing week.\n",
    "3 people viewed others significantly more distant with time,\n",
    "3 people viewed others significantly closer,\n",
    "And the rest (15) were somewhat neutral.\n",
    "\n",
    "Let me plot changes for average distance for most extreme cases - parasitologist and driver:"
   ]
  },
  {
   "cell_type": "code",
   "execution_count": 160,
   "metadata": {},
   "outputs": [
    {
     "data": {
      "image/png": "[encoded data removed]",
      "text/plain": [
       "<Figure size 432x288 with 2 Axes>"
      ]
     },
     "metadata": {
      "needs_background": "light"
     },
     "output_type": "display_data"
    }
   ],
   "source": [
    "parasitologist_distance_means_by_session = mean_distances_for_man[20]\n",
    "driver_distance_means_by_session = mean_distances_for_man[6]\n",
    "\n",
    "matplotlib.pyplot.figure()\n",
    "\n",
    "matplotlib.pyplot.subplot(211)\n",
    "matplotlib.pyplot.xlabel('Sessions')\n",
    "matplotlib.pyplot.ylabel('Distance')\n",
    "matplotlib.pyplot.title(ppl_professions[20])\n",
    "matplotlib.pyplot.plot(parasitologist_distance_means_by_session, 'ro')\n",
    "\n",
    "matplotlib.pyplot.subplot(212)\n",
    "matplotlib.pyplot.xlabel('Sessions')\n",
    "matplotlib.pyplot.ylabel('Distance')\n",
    "matplotlib.pyplot.title(ppl_professions[6])\n",
    "matplotlib.pyplot.plot(driver_distance_means_by_session, 'bo')\n",
    "\n",
    "matplotlib.pyplot.subplots_adjust(top=2.0, bottom=0.08, left=0.10, right=0.95, hspace=0.25,\n",
    "                    wspace=0.35)\n",
    "\n",
    "matplotlib.pyplot.show()"
   ]
  },
  {
   "cell_type": "markdown",
   "metadata": {},
   "source": [
    "Let me plot a graph of people by their average bond during the time in Antarctica:"
   ]
  },
  {
   "cell_type": "code",
   "execution_count": null,
   "metadata": {},
   "outputs": [],
   "source": []
  },
  {
   "cell_type": "markdown",
   "metadata": {},
   "source": [
    "Let me create a wieghted graph of relations, one for each session:"
   ]
  },
  {
   "cell_type": "code",
   "execution_count": 145,
   "metadata": {},
   "outputs": [],
   "source": [
    "session_graps = {x: networkx.MultiGraph() for x in sorted_filenames.keys()}"
   ]
  },
  {
   "cell_type": "markdown",
   "metadata": {},
   "source": [
    "What groups did people created, if any?\n",
    " -> networkx.algorithms.clique.find_cliques"
   ]
  },
  {
   "cell_type": "code",
   "execution_count": null,
   "metadata": {},
   "outputs": [],
   "source": []
  },
  {
   "cell_type": "markdown",
   "metadata": {},
   "source": [
    "How changed the graps centrality over the sessions?"
   ]
  },
  {
   "cell_type": "code",
   "execution_count": null,
   "metadata": {},
   "outputs": [],
   "source": []
  }
 ],
 "metadata": {
  "kernelspec": {
   "display_name": "Python 3",
   "language": "python",
   "name": "python3"
  },
  "language_info": {
   "codemirror_mode": {
    "name": "ipython",
    "version": 3
   },
   "file_extension": ".py",
   "mimetype": "text/x-python",
   "name": "python",
   "nbconvert_exporter": "python",
   "pygments_lexer": "ipython3",
   "version": "3.8.5"
  }
 },
 "nbformat": 4,
 "nbformat_minor": 4
}
