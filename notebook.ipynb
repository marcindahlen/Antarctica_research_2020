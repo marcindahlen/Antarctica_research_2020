{
 "cells": [
  {
   "cell_type": "code",
   "execution_count": 1,
   "metadata": {},
   "outputs": [],
   "source": [
    "import tensorflow\n",
    "import stellargraph\n",
    "import numpy\n",
    "import matplotlib\n",
    "import os.path\n",
    "import pandas\n",
    "import datetime\n",
    "import re"
   ]
  },
  {
   "cell_type": "markdown",
   "metadata": {},
   "source": [
    "Please notice, to open jupyter in custom directory use:\n",
    ">jupyter notebook --notebook-dir=[your_directory]"
   ]
  },
  {
   "cell_type": "markdown",
   "metadata": {},
   "source": [
    "Expecting file hierarchy:\n",
    "    <ul>root/\n",
    "        <li>Antarctica_research_2020/\n",
    "            <ul>.git/</ul>\n",
    "            <ul>.gitignore</ul>\n",
    "            <ul>readme.md</ul>\n",
    "            <ul>notebook.ipynb</ul></li>\n",
    "        <li>data/\n",
    "            <ul>Sesja 1.xlsx</ul>\n",
    "            <ul>.</ul>\n",
    "            <ul>.</ul>\n",
    "            <ul>Sesja 26.xlsx</ul></li>\n",
    "    </ul>"
   ]
  },
  {
   "cell_type": "code",
   "execution_count": 2,
   "metadata": {},
   "outputs": [],
   "source": [
    "# Let me write in advantage examined peoples' occupations:\n",
    "ppl_professions = {1: \"to be filled up\",\n",
    "                  2: \"to be filled up\",\n",
    "                  3: \"to be filled up\",\n",
    "                  4: \"to be filled up\",\n",
    "                  5: \"to be filled up\",\n",
    "                  6: \"to be filled up\",   # UWAGA - nr 6 przybył na stację 25.04.79r\n",
    "                  7: \"to be filled up\",\n",
    "                  8: \"to be filled up\",\n",
    "                  9: \"to be filled up\",\n",
    "                  10: \"to be filled up\",\n",
    "                  11: \"to be filled up\",\n",
    "                  12: \"to be filled up\",\n",
    "                  13: \"to be filled up\",\n",
    "                  14: \"to be filled up\",\n",
    "                  15: \"to be filled up\",\n",
    "                  16: \"to be filled up\",\n",
    "                  17: \"to be filled up\",\n",
    "                  18: \"to be filled up\",\n",
    "                  19: \"to be filled up\",\n",
    "                  20: \"to be filled up\",\n",
    "                  21: \"to be filled up\"\n",
    "                  }"
   ]
  },
  {
   "cell_type": "code",
   "execution_count": 3,
   "metadata": {},
   "outputs": [
    {
     "name": "stdout",
     "output_type": "stream",
     "text": [
      "['Sesja 1.xlsx', 'Sesja 10.xlsx', 'Sesja 11.xlsx', 'Sesja 12.xlsx', 'Sesja 13.xlsx', 'Sesja 14.xlsx', 'Sesja 15.xlsx', 'Sesja 16.xlsx', 'Sesja 17.xlsx', 'Sesja 18.xlsx', 'Sesja 19.xlsx', 'Sesja 2.xlsx', 'Sesja 20.xlsx', 'Sesja 21.xlsx', 'Sesja 22.xlsx', 'Sesja 23.xlsx', 'Sesja 24.xlsx', 'Sesja 25.xlsx', 'Sesja 26.xlsx', 'Sesja 3.xlsx', 'Sesja 4.xlsx', 'Sesja 5.xlsx', 'Sesja 6.xlsx', 'Sesja 7.xlsx', 'Sesja 8.xlsx', 'Sesja 9.xlsx']\n"
     ]
    }
   ],
   "source": [
    "data_path = \"../data/\"\n",
    "file_list = [name for name in os.listdir(data_path)]\n",
    "print(file_list)"
   ]
  },
  {
   "cell_type": "code",
   "execution_count": 4,
   "metadata": {},
   "outputs": [
    {
     "name": "stdout",
     "output_type": "stream",
     "text": [
      "{1: 'Sesja 1.xlsx', 2: 'Sesja 2.xlsx', 3: 'Sesja 3.xlsx', 4: 'Sesja 4.xlsx', 5: 'Sesja 5.xlsx', 6: 'Sesja 6.xlsx', 7: 'Sesja 7.xlsx', 8: 'Sesja 8.xlsx', 9: 'Sesja 9.xlsx', 10: 'Sesja 10.xlsx', 11: 'Sesja 11.xlsx', 12: 'Sesja 12.xlsx', 13: 'Sesja 13.xlsx', 14: 'Sesja 14.xlsx', 15: 'Sesja 15.xlsx', 16: 'Sesja 16.xlsx', 17: 'Sesja 17.xlsx', 18: 'Sesja 18.xlsx', 19: 'Sesja 19.xlsx', 20: 'Sesja 20.xlsx', 21: 'Sesja 21.xlsx', 22: 'Sesja 22.xlsx', 23: 'Sesja 23.xlsx', 24: 'Sesja 24.xlsx', 25: 'Sesja 25.xlsx', 26: 'Sesja 26.xlsx'}\n"
     ]
    }
   ],
   "source": [
    "# Sessions order is important, let me get sorted file info\n",
    "sorted_filenames = dict()\n",
    "for name in file_list:\n",
    "    list_of_digits = list(map(int, filter(str.isdigit, name)))\n",
    "    sorted_filenames[name] = list_of_digits[0] if len(list_of_digits) == 1 else list_of_digits[1] + list_of_digits[0]*10\n",
    "sorted_filenames = sorted(sorted_filenames.items(), key=lambda el: el[1])\n",
    "sorted_filenames = {val: key for key, val in sorted_filenames}\n",
    "print(sorted_filenames)"
   ]
  },
  {
   "cell_type": "code",
   "execution_count": 5,
   "metadata": {},
   "outputs": [],
   "source": [
    "# Loading data\n",
    "data_dict = dict()\n",
    "for key, val in sorted_filenames.items():\n",
    "    data_dict[key] = pandas.read_excel(data_path + val, header=None, dtype=object)"
   ]
  },
  {
   "cell_type": "code",
   "execution_count": 15,
   "metadata": {},
   "outputs": [
    {
     "data": {
      "text/html": [
       "<div>\n",
       "<style scoped>\n",
       "    .dataframe tbody tr th:only-of-type {\n",
       "        vertical-align: middle;\n",
       "    }\n",
       "\n",
       "    .dataframe tbody tr th {\n",
       "        vertical-align: top;\n",
       "    }\n",
       "\n",
       "    .dataframe thead th {\n",
       "        text-align: right;\n",
       "    }\n",
       "</style>\n",
       "<table border=\"1\" class=\"dataframe\">\n",
       "  <thead>\n",
       "    <tr style=\"text-align: right;\">\n",
       "      <th></th>\n",
       "      <th>0</th>\n",
       "      <th>1</th>\n",
       "      <th>2</th>\n",
       "      <th>3</th>\n",
       "      <th>4</th>\n",
       "      <th>5</th>\n",
       "      <th>6</th>\n",
       "      <th>7</th>\n",
       "      <th>8</th>\n",
       "      <th>9</th>\n",
       "      <th>...</th>\n",
       "      <th>12</th>\n",
       "      <th>13</th>\n",
       "      <th>14</th>\n",
       "      <th>15</th>\n",
       "      <th>16</th>\n",
       "      <th>17</th>\n",
       "      <th>18</th>\n",
       "      <th>19</th>\n",
       "      <th>20</th>\n",
       "      <th>21</th>\n",
       "    </tr>\n",
       "  </thead>\n",
       "  <tbody>\n",
       "    <tr>\n",
       "      <th>0</th>\n",
       "      <td>NaN</td>\n",
       "      <td>Pozycja osoby</td>\n",
       "      <td>NaN</td>\n",
       "      <td>NaN</td>\n",
       "      <td>NaN</td>\n",
       "      <td>NaN</td>\n",
       "      <td>NaN</td>\n",
       "      <td>NaN</td>\n",
       "      <td>NaN</td>\n",
       "      <td>NaN</td>\n",
       "      <td>...</td>\n",
       "      <td>N = 21</td>\n",
       "      <td>NaN</td>\n",
       "      <td>NaN</td>\n",
       "      <td>1979-07-01 00:00:00</td>\n",
       "      <td>NaN</td>\n",
       "      <td>NaN</td>\n",
       "      <td>NaN</td>\n",
       "      <td>ZIM14</td>\n",
       "      <td>NaN</td>\n",
       "      <td>NaN</td>\n",
       "    </tr>\n",
       "    <tr>\n",
       "      <th>1</th>\n",
       "      <td>Nr O.B.</td>\n",
       "      <td>1</td>\n",
       "      <td>2</td>\n",
       "      <td>3</td>\n",
       "      <td>4</td>\n",
       "      <td>5</td>\n",
       "      <td>6</td>\n",
       "      <td>7</td>\n",
       "      <td>8</td>\n",
       "      <td>9</td>\n",
       "      <td>...</td>\n",
       "      <td>12</td>\n",
       "      <td>13</td>\n",
       "      <td>14</td>\n",
       "      <td>15</td>\n",
       "      <td>16</td>\n",
       "      <td>17</td>\n",
       "      <td>18</td>\n",
       "      <td>19</td>\n",
       "      <td>20</td>\n",
       "      <td>21</td>\n",
       "    </tr>\n",
       "    <tr>\n",
       "      <th>2</th>\n",
       "      <td>1</td>\n",
       "      <td>2719</td>\n",
       "      <td>2815</td>\n",
       "      <td>2829</td>\n",
       "      <td>2826</td>\n",
       "      <td>2626</td>\n",
       "      <td>2824</td>\n",
       "      <td>2426</td>\n",
       "      <td>2917</td>\n",
       "      <td>2919</td>\n",
       "      <td>...</td>\n",
       "      <td>2417</td>\n",
       "      <td>2419</td>\n",
       "      <td>2421</td>\n",
       "      <td>2423</td>\n",
       "      <td>2914</td>\n",
       "      <td>2714</td>\n",
       "      <td>2724</td>\n",
       "      <td>2522</td>\n",
       "      <td>2516</td>\n",
       "      <td>2425</td>\n",
       "    </tr>\n",
       "    <tr>\n",
       "      <th>3</th>\n",
       "      <td>2</td>\n",
       "      <td>2912</td>\n",
       "      <td>2201</td>\n",
       "      <td>2311</td>\n",
       "      <td>2322</td>\n",
       "      <td>1818</td>\n",
       "      <td>1710</td>\n",
       "      <td>3121</td>\n",
       "      <td>1115</td>\n",
       "      <td>1119</td>\n",
       "      <td>...</td>\n",
       "      <td>3437</td>\n",
       "      <td>2133</td>\n",
       "      <td>1434</td>\n",
       "      <td>2006</td>\n",
       "      <td>1124</td>\n",
       "      <td>0733</td>\n",
       "      <td>1724</td>\n",
       "      <td>3629</td>\n",
       "      <td>0517</td>\n",
       "      <td>0524</td>\n",
       "    </tr>\n",
       "  </tbody>\n",
       "</table>\n",
       "<p>4 rows × 22 columns</p>\n",
       "</div>"
      ],
      "text/plain": [
       "        0              1     2     3     4     5     6     7     8     9   \\\n",
       "0      NaN  Pozycja osoby   NaN   NaN   NaN   NaN   NaN   NaN   NaN   NaN   \n",
       "1  Nr O.B.              1     2     3     4     5     6     7     8     9   \n",
       "2        1           2719  2815  2829  2826  2626  2824  2426  2917  2919   \n",
       "3        2           2912  2201  2311  2322  1818  1710  3121  1115  1119   \n",
       "\n",
       "   ...      12    13    14                   15    16    17    18     19  \\\n",
       "0  ...  N = 21   NaN   NaN  1979-07-01 00:00:00   NaN   NaN   NaN  ZIM14   \n",
       "1  ...      12    13    14                   15    16    17    18     19   \n",
       "2  ...    2417  2419  2421                 2423  2914  2714  2724   2522   \n",
       "3  ...    3437  2133  1434                 2006  1124  0733  1724   3629   \n",
       "\n",
       "     20    21  \n",
       "0   NaN   NaN  \n",
       "1    20    21  \n",
       "2  2516  2425  \n",
       "3  0517  0524  \n",
       "\n",
       "[4 rows x 22 columns]"
      ]
     },
     "execution_count": 15,
     "metadata": {},
     "output_type": "execute_result"
    }
   ],
   "source": [
    "rand_int = int(numpy.random.rand() * 26)\n",
    "data_dict[rand_int].head(4)\n",
    "# An example:"
   ]
  },
  {
   "cell_type": "markdown",
   "metadata": {},
   "source": [
    "The target format for data is a stellargraph graph for each session (session -> data recording occuring every two week). But before that, let me read the data into intermediate objects:"
   ]
  },
  {
   "cell_type": "code",
   "execution_count": 37,
   "metadata": {},
   "outputs": [],
   "source": [
    "class Session(object):\n",
    "    def __init__(self, raw_session_data):\n",
    "        self.date = self.find_date(raw_session_data)\n",
    "        self.relations = self.get_relations(raw_session_data) # dictionary of lists of tuples - column_number : [(x1, y1), (x2, y2), ...]\n",
    "    \n",
    "    def get_relations(self, raw_session_data) -> dict:\n",
    "        rels = dict()\n",
    "        col_no = len(ppl_professions)\n",
    "        rels = {x: [] for x in range(1, col_no + 1)}\n",
    "        for person in range(2, col_no + 1):\n",
    "            for entry in range(1, col_no):\n",
    "                string_value = raw_session_data.iloc[person, entry]\n",
    "                subject_no = raw_session_data.iloc[person, 0]\n",
    "                rels[subject_no].append(string_value)\n",
    "                \n",
    "        return rels\n",
    "    \n",
    "    def find_date(self, raw_session_data) -> str:\n",
    "        for key, col in raw_session_data.iteritems():\n",
    "            for val in col:\n",
    "                regex = re.search(r\"\\d{1,2}.\\d{1,2}.\\d{4}|\\d{4}.\\d{1,2}.\\d{1,2}\", str(val))\n",
    "                if regex:\n",
    "                    return regex.group()\n",
    "                \n",
    "    def __str__(self):\n",
    "        return \"Session from \" + self.date + \" example entry: \" + str(self.relations[1])"
   ]
  },
  {
   "cell_type": "code",
   "execution_count": 38,
   "metadata": {},
   "outputs": [],
   "source": [
    "class Person(object):\n",
    "    def __init__(self, id, date, relations: list):\n",
    "        pass"
   ]
  },
  {
   "cell_type": "code",
   "execution_count": 39,
   "metadata": {},
   "outputs": [
    {
     "name": "stdout",
     "output_type": "stream",
     "text": [
      "Session from 1978-12-29 example entry: [2420, 2518, 1232, 2123, 2430, 1930, 2625, 2921, 1218, 2422, 1716, 2311, 2812, 1526, 2520, 2120, 1224, 2012, 1822, 2915]\n"
     ]
    }
   ],
   "source": [
    "test_session = Session(data_dict[1])\n",
    "print(test_session)"
   ]
  },
  {
   "cell_type": "code",
   "execution_count": null,
   "metadata": {},
   "outputs": [],
   "source": []
  },
  {
   "cell_type": "code",
   "execution_count": null,
   "metadata": {},
   "outputs": [],
   "source": []
  }
 ],
 "metadata": {
  "kernelspec": {
   "display_name": "Python 3",
   "language": "python",
   "name": "python3"
  },
  "language_info": {
   "codemirror_mode": {
    "name": "ipython",
    "version": 3
   },
   "file_extension": ".py",
   "mimetype": "text/x-python",
   "name": "python",
   "nbconvert_exporter": "python",
   "pygments_lexer": "ipython3",
   "version": "3.8.5"
  }
 },
 "nbformat": 4,
 "nbformat_minor": 4
}
