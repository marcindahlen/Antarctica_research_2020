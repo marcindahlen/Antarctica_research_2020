{
 "cells": [
  {
   "cell_type": "code",
   "execution_count": 1,
   "metadata": {},
   "outputs": [],
   "source": [
    "import tensorflow   # machine learning library\n",
    "import stellargraph   # tools for graphs\n",
    "# import networkx   # more tools for graphs\n",
    "import numpy   # scientific computation and variable formats library\n",
    "import matplotlib   # all plotting except graphs\n",
    "import plotly.graph_objects as plotly   # plotting graphs\n",
    "import os.path   # interaction with  files and filenames\n",
    "import pandas   # library for loading and organising data\n",
    "import datetime   # calendar and dates handling\n",
    "import re   # I'm using regex, apologies"
   ]
  },
  {
   "cell_type": "markdown",
   "metadata": {},
   "source": [
    "Please notice, to open jupyter in custom directory use:\n",
    ">jupyter notebook --notebook-dir=[your_directory]"
   ]
  },
  {
   "cell_type": "markdown",
   "metadata": {},
   "source": [
    "Expecting file hierarchy:\n",
    "    <ul>root/\n",
    "        <li>Antarctica_research_2020/\n",
    "            <ul>.git/</ul>\n",
    "            <ul>.gitignore</ul>\n",
    "            <ul>readme.md</ul>\n",
    "            <ul>notebook.ipynb</ul></li>\n",
    "        <li>data/\n",
    "            <ul>Sesja 1.xlsx</ul>\n",
    "            <ul>.</ul>\n",
    "            <ul>.</ul>\n",
    "            <ul>Sesja 26.xlsx</ul></li>\n",
    "    </ul>"
   ]
  },
  {
   "cell_type": "code",
   "execution_count": 2,
   "metadata": {},
   "outputs": [],
   "source": [
    "# Let me write in advantage examined peoples' occupations:\n",
    "ppl_professions = {1: \"fisherman\",\n",
    "                  2: \"cook\",\n",
    "                  3: \"medic\",\n",
    "                  4: \"deputy technical manager\",\n",
    "                  5: \"carpenter\",\n",
    "                  6: \"driver\",   # UWAGA - nr 6 przybył na stację 25.04.79r\n",
    "                  7: \"technician\",\n",
    "                  8: \"chemist\",\n",
    "                  9: \"meteorologist\",\n",
    "                  10: \"ichthyologist\",   # study of fish\n",
    "                  11: \"magnetologist\",\n",
    "                  12: \"seismologist\",\n",
    "                  13: \"biologist\",\n",
    "                  14: \"electrician\",\n",
    "                  15: \"radiotelegraphist\",\n",
    "                  16: \"psychologist\",\n",
    "                  17: \"electronics engineer\",\n",
    "                  18: \"meteorologist\",\n",
    "                  19: \"microbiologist\",\n",
    "                  20: \"parasitologist\",\n",
    "                  21: \"botanist\"\n",
    "                  }"
   ]
  },
  {
   "cell_type": "code",
   "execution_count": 3,
   "metadata": {},
   "outputs": [
    {
     "name": "stdout",
     "output_type": "stream",
     "text": [
      "['Sesja 1.xlsx', 'Sesja 10.xlsx', 'Sesja 11.xlsx', 'Sesja 12.xlsx', 'Sesja 13.xlsx', 'Sesja 14.xlsx', 'Sesja 15.xlsx', 'Sesja 16.xlsx', 'Sesja 17.xlsx', 'Sesja 18.xlsx', 'Sesja 19.xlsx', 'Sesja 2.xlsx', 'Sesja 20.xlsx', 'Sesja 21.xlsx', 'Sesja 22.xlsx', 'Sesja 23.xlsx', 'Sesja 24.xlsx', 'Sesja 25.xlsx', 'Sesja 26.xlsx', 'Sesja 3.xlsx', 'Sesja 4.xlsx', 'Sesja 5.xlsx', 'Sesja 6.xlsx', 'Sesja 7.xlsx', 'Sesja 8.xlsx', 'Sesja 9.xlsx']\n"
     ]
    }
   ],
   "source": [
    "data_path = \"../data/\"\n",
    "file_list = [name for name in os.listdir(data_path)]\n",
    "print(file_list)"
   ]
  },
  {
   "cell_type": "code",
   "execution_count": 4,
   "metadata": {},
   "outputs": [
    {
     "name": "stdout",
     "output_type": "stream",
     "text": [
      "{1: 'Sesja 1.xlsx', 2: 'Sesja 2.xlsx', 3: 'Sesja 3.xlsx', 4: 'Sesja 4.xlsx', 5: 'Sesja 5.xlsx', 6: 'Sesja 6.xlsx', 7: 'Sesja 7.xlsx', 8: 'Sesja 8.xlsx', 9: 'Sesja 9.xlsx', 10: 'Sesja 10.xlsx', 11: 'Sesja 11.xlsx', 12: 'Sesja 12.xlsx', 13: 'Sesja 13.xlsx', 14: 'Sesja 14.xlsx', 15: 'Sesja 15.xlsx', 16: 'Sesja 16.xlsx', 17: 'Sesja 17.xlsx', 18: 'Sesja 18.xlsx', 19: 'Sesja 19.xlsx', 20: 'Sesja 20.xlsx', 21: 'Sesja 21.xlsx', 22: 'Sesja 22.xlsx', 23: 'Sesja 23.xlsx', 24: 'Sesja 24.xlsx', 25: 'Sesja 25.xlsx', 26: 'Sesja 26.xlsx'}\n"
     ]
    }
   ],
   "source": [
    "# Sessions order is important, let me get sorted file info\n",
    "sorted_filenames = dict()\n",
    "for name in file_list:\n",
    "    list_of_digits = list(map(int, filter(str.isdigit, name)))\n",
    "    sorted_filenames[name] = list_of_digits[0] if len(list_of_digits) == 1 else list_of_digits[1] + list_of_digits[0]*10\n",
    "sorted_filenames = sorted(sorted_filenames.items(), key=lambda el: el[1])\n",
    "sorted_filenames = {val: key for key, val in sorted_filenames}\n",
    "print(sorted_filenames)"
   ]
  },
  {
   "cell_type": "code",
   "execution_count": 5,
   "metadata": {},
   "outputs": [],
   "source": [
    "# Loading data\n",
    "data_dict = dict()\n",
    "for key, val in sorted_filenames.items():\n",
    "    data_dict[key] = pandas.read_excel(data_path + val, header=None, dtype=object)"
   ]
  },
  {
   "cell_type": "code",
   "execution_count": 6,
   "metadata": {},
   "outputs": [
    {
     "data": {
      "text/html": [
       "<div>\n",
       "<style scoped>\n",
       "    .dataframe tbody tr th:only-of-type {\n",
       "        vertical-align: middle;\n",
       "    }\n",
       "\n",
       "    .dataframe tbody tr th {\n",
       "        vertical-align: top;\n",
       "    }\n",
       "\n",
       "    .dataframe thead th {\n",
       "        text-align: right;\n",
       "    }\n",
       "</style>\n",
       "<table border=\"1\" class=\"dataframe\">\n",
       "  <thead>\n",
       "    <tr style=\"text-align: right;\">\n",
       "      <th></th>\n",
       "      <th>0</th>\n",
       "      <th>1</th>\n",
       "      <th>2</th>\n",
       "      <th>3</th>\n",
       "      <th>4</th>\n",
       "      <th>5</th>\n",
       "      <th>6</th>\n",
       "      <th>7</th>\n",
       "      <th>8</th>\n",
       "      <th>9</th>\n",
       "      <th>...</th>\n",
       "      <th>12</th>\n",
       "      <th>13</th>\n",
       "      <th>14</th>\n",
       "      <th>15</th>\n",
       "      <th>16</th>\n",
       "      <th>17</th>\n",
       "      <th>18</th>\n",
       "      <th>19</th>\n",
       "      <th>20</th>\n",
       "      <th>21</th>\n",
       "    </tr>\n",
       "  </thead>\n",
       "  <tbody>\n",
       "    <tr>\n",
       "      <th>0</th>\n",
       "      <td>NaN</td>\n",
       "      <td>Pozycja osoby</td>\n",
       "      <td>NaN</td>\n",
       "      <td>NaN</td>\n",
       "      <td>NaN</td>\n",
       "      <td>NaN</td>\n",
       "      <td>NaN</td>\n",
       "      <td>NaN</td>\n",
       "      <td>NaN</td>\n",
       "      <td>NaN</td>\n",
       "      <td>...</td>\n",
       "      <td>N = 21</td>\n",
       "      <td>NaN</td>\n",
       "      <td>NaN</td>\n",
       "      <td>1979-10-21 00:00:00</td>\n",
       "      <td>NaN</td>\n",
       "      <td>NaN</td>\n",
       "      <td>NaN</td>\n",
       "      <td>ZIM22</td>\n",
       "      <td>NaN</td>\n",
       "      <td>NaN</td>\n",
       "    </tr>\n",
       "    <tr>\n",
       "      <th>1</th>\n",
       "      <td>Nr O.B.</td>\n",
       "      <td>1</td>\n",
       "      <td>2</td>\n",
       "      <td>3</td>\n",
       "      <td>4</td>\n",
       "      <td>5</td>\n",
       "      <td>6</td>\n",
       "      <td>7</td>\n",
       "      <td>8</td>\n",
       "      <td>9</td>\n",
       "      <td>...</td>\n",
       "      <td>12</td>\n",
       "      <td>13</td>\n",
       "      <td>14</td>\n",
       "      <td>15</td>\n",
       "      <td>16</td>\n",
       "      <td>17</td>\n",
       "      <td>18</td>\n",
       "      <td>19</td>\n",
       "      <td>20</td>\n",
       "      <td>21</td>\n",
       "    </tr>\n",
       "    <tr>\n",
       "      <th>2</th>\n",
       "      <td>1</td>\n",
       "      <td>2717</td>\n",
       "      <td>3014</td>\n",
       "      <td>3023</td>\n",
       "      <td>2323</td>\n",
       "      <td>2312</td>\n",
       "      <td>2512</td>\n",
       "      <td>2318</td>\n",
       "      <td>2623</td>\n",
       "      <td>3120</td>\n",
       "      <td>...</td>\n",
       "      <td>2415</td>\n",
       "      <td>2422</td>\n",
       "      <td>3010</td>\n",
       "      <td>2710</td>\n",
       "      <td>2521</td>\n",
       "      <td>2721</td>\n",
       "      <td>3215</td>\n",
       "      <td>2115</td>\n",
       "      <td>2119</td>\n",
       "      <td>2320</td>\n",
       "    </tr>\n",
       "    <tr>\n",
       "      <th>3</th>\n",
       "      <td>2</td>\n",
       "      <td>2312</td>\n",
       "      <td>2201</td>\n",
       "      <td>2016</td>\n",
       "      <td>3418</td>\n",
       "      <td>2124</td>\n",
       "      <td>2627</td>\n",
       "      <td>2914</td>\n",
       "      <td>3407</td>\n",
       "      <td>1622</td>\n",
       "      <td>...</td>\n",
       "      <td>1835</td>\n",
       "      <td>1616</td>\n",
       "      <td>0910</td>\n",
       "      <td>2007</td>\n",
       "      <td>1511</td>\n",
       "      <td>2823</td>\n",
       "      <td>2432</td>\n",
       "      <td>1830</td>\n",
       "      <td>1218</td>\n",
       "      <td>0827</td>\n",
       "    </tr>\n",
       "  </tbody>\n",
       "</table>\n",
       "<p>4 rows × 22 columns</p>\n",
       "</div>"
      ],
      "text/plain": [
       "        0              1     2     3     4     5     6     7     8     9   \\\n",
       "0      NaN  Pozycja osoby   NaN   NaN   NaN   NaN   NaN   NaN   NaN   NaN   \n",
       "1  Nr O.B.              1     2     3     4     5     6     7     8     9   \n",
       "2        1           2717  3014  3023  2323  2312  2512  2318  2623  3120   \n",
       "3        2           2312  2201  2016  3418  2124  2627  2914  3407  1622   \n",
       "\n",
       "   ...      12    13    14                   15    16    17    18     19  \\\n",
       "0  ...  N = 21   NaN   NaN  1979-10-21 00:00:00   NaN   NaN   NaN  ZIM22   \n",
       "1  ...      12    13    14                   15    16    17    18     19   \n",
       "2  ...    2415  2422  3010                 2710  2521  2721  3215   2115   \n",
       "3  ...    1835  1616  0910                 2007  1511  2823  2432   1830   \n",
       "\n",
       "     20    21  \n",
       "0   NaN   NaN  \n",
       "1    20    21  \n",
       "2  2119  2320  \n",
       "3  1218  0827  \n",
       "\n",
       "[4 rows x 22 columns]"
      ]
     },
     "execution_count": 6,
     "metadata": {},
     "output_type": "execute_result"
    }
   ],
   "source": [
    "rand_int = int(numpy.random.rand() * 26)\n",
    "data_dict[rand_int].head(4)\n",
    "# An example:"
   ]
  },
  {
   "cell_type": "markdown",
   "metadata": {},
   "source": [
    "The target format for data is a stellargraph graph for each session (session -> data recording occuring every two week). But before that, let me read the data into intermediate objects: Session(s) and Person(s).\n",
    "    Session will hold data in respect to each source data file, organising entries into lists of coordinates marked by examined people - one list for one man for each session.\n",
    "    Person will organise data in respect to a single individual. Each* individual hold data for all 26 sessions, for convienience repeated in several arrangements.\n",
    "    \n",
    "*except mr. 6th, since he arrived later"
   ]
  },
  {
   "cell_type": "code",
   "execution_count": 7,
   "metadata": {},
   "outputs": [],
   "source": [
    "class Session(object):\n",
    "    def __init__(self, raw_session_data):\n",
    "        self.date = self.find_date(raw_session_data)\n",
    "        self.relations = self.get_relations(raw_session_data) # dictionary of lists of tuples - column_number : [(x1, y1), (x2, y2), ...]\n",
    "    \n",
    "    def get_relations(self, raw_session_data) -> dict:\n",
    "        rels = dict()\n",
    "        col_no = len(ppl_professions)\n",
    "        rels = {x: [] for x in range(1, col_no + 1)}\n",
    "        for person in range(2, col_no + 1):\n",
    "            for entry in range(1, col_no):\n",
    "                string_value = str(raw_session_data.iloc[person, entry])\n",
    "                subject_no = raw_session_data.iloc[person, 0]\n",
    "                data_point = self.tuple_from_string(string_value)\n",
    "                rels[subject_no].append(data_point)\n",
    "                \n",
    "        return rels\n",
    "    \n",
    "    def tuple_from_string(self, string) -> tuple:\n",
    "        if string == 'nan':\n",
    "            return None\n",
    "        elif len(string) == 4:\n",
    "            x = int(string[1]) + int(string[0]) * 10\n",
    "            y = int(string[3]) + int(string[2]) * 10\n",
    "            return (x, y)\n",
    "        elif len(string) == 3:\n",
    "            x = int(string[0])\n",
    "            y = int(string[2]) + int(string[1]) * 10\n",
    "            return (x, y)\n",
    "        else:\n",
    "            return None\n",
    "    \n",
    "    def find_date(self, raw_session_data) -> str:\n",
    "        for key, col in raw_session_data.iteritems():\n",
    "            for val in col:\n",
    "                regex = re.search(r\"\\d{1,2}.\\d{1,2}.\\d{4}|\\d{4}.\\d{1,2}.\\d{1,2}\", str(val))\n",
    "                if regex:\n",
    "                    return regex.group()\n",
    "                \n",
    "    def __str__(self):\n",
    "        random = int(numpy.random.rand() * len(ppl_professions))\n",
    "        return \"Session from \" + self.date + \" example entry: \" + str(self.relations[random]) + \" for \" + str(random)"
   ]
  },
  {
   "cell_type": "code",
   "execution_count": 77,
   "metadata": {},
   "outputs": [
    {
     "name": "stdout",
     "output_type": "stream",
     "text": [
      "Session from 1980-01-10 example entry: [(35, 7), (39, 7), (41, 1), (6, 32), (29, 11), (18, 15), (9, 26), (27, 22), (20, 12), (39, 3), (40, 10), (13, 26), (18, 19), (33, 13), (19, 23), (31, 14), (23, 13), (23, 25), (12, 30), (23, 19)] for 20\n"
     ]
    }
   ],
   "source": [
    "session_data = [Session(e) for e in data_dict.values()]\n",
    "# An example entry:\n",
    "print(session_data[-1])"
   ]
  },
  {
   "cell_type": "code",
   "execution_count": 126,
   "metadata": {},
   "outputs": [],
   "source": [
    "class Person(object):\n",
    "    def __init__(self, person_no, particular_person_profession, session_data):\n",
    "        self.person_no = person_no\n",
    "        self.profession = particular_person_profession\n",
    "        self.sessions_dict = self.get_all_relations(session_data)\n",
    "        self.relations_vector = self.get_all_relative_vectors(self.sessions_dict)\n",
    "        self.distances = self.get_all_distances(self.relations_vector)\n",
    "        \n",
    "    def get_all_relations(self, session_data) -> dict:\n",
    "        out_dict = {x: [] for x in sorted_filenames.keys()}\n",
    "        for no in out_dict.keys():\n",
    "            out_dict[no] = session_data[no - 1].relations[self.person_no]\n",
    "        return out_dict\n",
    "    \n",
    "    def get_all_relative_vectors(self, relations) -> dict:\n",
    "        out_dict = {x: [] for x in sorted_filenames.keys()}\n",
    "        for no, session in relations.items():\n",
    "            for relation in session:\n",
    "                if relation is not None and session[self.person_no - 1] is not None:\n",
    "                    out_dict[no].append((relation[0] - session[self.person_no - 1][0], relation[1] - session[self.person_no - 1][1]))\n",
    "                else:\n",
    "                    out_dict[no].append(None)\n",
    "        return out_dict\n",
    "    \n",
    "    def get_all_distances(self, vectors) -> dict:\n",
    "        out_dict = {x: [] for x in sorted_filenames.keys()}\n",
    "        for no, session in vectors.items():\n",
    "            for vector in session:\n",
    "                if vector is not None:\n",
    "                    out_dict[no].append(self.calc_distance(vector[0], vector[1]))\n",
    "                else:\n",
    "                    out_dict[no].append(None)\n",
    "        return out_dict\n",
    "    \n",
    "    def get_particular_rel_list(self, other) -> list:\n",
    "        pass\n",
    "    \n",
    "    def calc_distance(self, a, b) -> float:\n",
    "        return numpy.sqrt(a ** 2 + b ** 2)\n",
    "    \n",
    "    def __str__(self):\n",
    "        rand_session = int(numpy.random.rand() * 26)\n",
    "        return \"No. \" + str(self.person_no) + \" being \" + self.profession + \" with distances: \" + str(self.distances[rand_session]) + \" for session \" + str(rand_session)"
   ]
  },
  {
   "cell_type": "code",
   "execution_count": 127,
   "metadata": {},
   "outputs": [
    {
     "name": "stdout",
     "output_type": "stream",
     "text": [
      "No. 1 being fisherman with distances: [0.0, 2.23606797749979, 8.246211251235321, 8.06225774829855, 9.486832980505138, 7.211102550927978, 12.041594578792296, 4.123105625617661, 11.40175425099138, 2.0, 7.0, 12.206555615733702, 6.4031242374328485, 10.770329614269007, 2.8284271247461903, 2.0, 8.246211251235321, 7.810249675906654, 14.212670403551895, 10.198039027185569] for session 5\n"
     ]
    }
   ],
   "source": [
    "people_data = [Person(no, profession, session_data) for no, profession in ppl_professions.items()]\n",
    "# An example:\n",
    "rand_ppl = int(numpy.random.rand() * 21)\n",
    "print(people_data[rand_ppl])"
   ]
  },
  {
   "cell_type": "code",
   "execution_count": null,
   "metadata": {},
   "outputs": [],
   "source": []
  }
 ],
 "metadata": {
  "kernelspec": {
   "display_name": "Python 3",
   "language": "python",
   "name": "python3"
  },
  "language_info": {
   "codemirror_mode": {
    "name": "ipython",
    "version": 3
   },
   "file_extension": ".py",
   "mimetype": "text/x-python",
   "name": "python",
   "nbconvert_exporter": "python",
   "pygments_lexer": "ipython3",
   "version": "3.8.5"
  }
 },
 "nbformat": 4,
 "nbformat_minor": 4
}
