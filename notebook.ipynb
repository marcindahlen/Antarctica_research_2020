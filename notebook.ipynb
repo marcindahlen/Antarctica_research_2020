{
 "cells": [
  {
   "cell_type": "code",
   "execution_count": 33,
   "metadata": {},
   "outputs": [],
   "source": [
    "import tensorflow\n",
    "import stellargraph\n",
    "import numpy\n",
    "import matplotlib\n",
    "import os.path\n",
    "import pandas"
   ]
  },
  {
   "cell_type": "markdown",
   "metadata": {},
   "source": [
    "Please notice, to open jupyter in custom directory use:\n",
    ">jupyter notebook --notebook-dir=[your_directory]"
   ]
  },
  {
   "cell_type": "raw",
   "metadata": {},
   "source": [
    "Expecting file hierarchy:\n",
    "    root/\n",
    "        Antarctica_research_2020/\n",
    "            .git/\n",
    "            .gitignore\n",
    "            readme.md\n",
    "            notebook.ipynb\n",
    "        data/\n",
    "            Sesja 1.xlsx\n",
    "            .\n",
    "            .\n",
    "            Sesja 26.xlsx"
   ]
  },
  {
   "cell_type": "code",
   "execution_count": 34,
   "metadata": {},
   "outputs": [
    {
     "name": "stdout",
     "output_type": "stream",
     "text": [
      "['Sesja 1.xlsx', 'Sesja 10.xlsx', 'Sesja 11.xlsx', 'Sesja 12.xlsx', 'Sesja 13.xlsx', 'Sesja 14.xlsx', 'Sesja 15.xlsx', 'Sesja 16.xlsx', 'Sesja 17.xlsx', 'Sesja 18.xlsx', 'Sesja 19.xlsx', 'Sesja 2.xlsx', 'Sesja 20.xlsx', 'Sesja 21.xlsx', 'Sesja 22.xlsx', 'Sesja 23.xlsx', 'Sesja 24.xlsx', 'Sesja 25.xlsx', 'Sesja 26.xlsx', 'Sesja 3.xlsx', 'Sesja 4.xlsx', 'Sesja 5.xlsx', 'Sesja 6.xlsx', 'Sesja 7.xlsx', 'Sesja 8.xlsx', 'Sesja 9.xlsx']\n"
     ]
    }
   ],
   "source": [
    "data_path = \"../data/\"\n",
    "file_list = [name for name in os.listdir(data_path)]\n",
    "print(file_list)"
   ]
  },
  {
   "cell_type": "code",
   "execution_count": 39,
   "metadata": {},
   "outputs": [
    {
     "name": "stdout",
     "output_type": "stream",
     "text": [
      "{1: 'Sesja 1.xlsx', 2: 'Sesja 2.xlsx', 3: 'Sesja 3.xlsx', 4: 'Sesja 4.xlsx', 5: 'Sesja 5.xlsx', 6: 'Sesja 6.xlsx', 7: 'Sesja 7.xlsx', 8: 'Sesja 8.xlsx', 9: 'Sesja 9.xlsx', 10: 'Sesja 10.xlsx', 11: 'Sesja 11.xlsx', 12: 'Sesja 12.xlsx', 13: 'Sesja 13.xlsx', 14: 'Sesja 14.xlsx', 15: 'Sesja 15.xlsx', 16: 'Sesja 16.xlsx', 17: 'Sesja 17.xlsx', 18: 'Sesja 18.xlsx', 19: 'Sesja 19.xlsx', 20: 'Sesja 20.xlsx', 21: 'Sesja 21.xlsx', 22: 'Sesja 22.xlsx', 23: 'Sesja 23.xlsx', 24: 'Sesja 24.xlsx', 25: 'Sesja 25.xlsx', 26: 'Sesja 26.xlsx'}\n"
     ]
    }
   ],
   "source": [
    "# Sessions order is important, let me get sorted file info\n",
    "sorted_filenames = dict()\n",
    "for name in file_list:\n",
    "    list_of_digits = list(map(int, filter(str.isdigit, name)))\n",
    "    sorted_filenames[name] = list_of_digits[0] if len(list_of_digits) == 1 else list_of_digits[1] + list_of_digits[0]*10\n",
    "sorted_filenames = sorted(sorted_filenames.items(), key=lambda el: el[1])\n",
    "sorted_filenames = {val: key for key, val in sorted_filenames}\n",
    "print(sorted_filenames)"
   ]
  },
  {
   "cell_type": "code",
   "execution_count": 42,
   "metadata": {},
   "outputs": [],
   "source": [
    "# Loading data\n",
    "data_dict = dict()\n",
    "for key, val in sorted_filenames.items():\n",
    "    data_dict[key] = pandas.read_excel(data_path + val)"
   ]
  },
  {
   "cell_type": "code",
   "execution_count": 44,
   "metadata": {},
   "outputs": [
    {
     "name": "stdout",
     "output_type": "stream",
     "text": [
      "                Unnamed: 0  Unnamed: 1  Numer osoby  Unnamed: 3  Unnamed: 4  \\\n",
      "0                  Nr O.B.         1.0          2.0         3.0         4.0   \n",
      "1                        1      2420.0       2518.0      1232.0      2123.0   \n",
      "2                        2      2215.0       2206.0      2412.0      2011.0   \n",
      "3                        3      2021.0       2321.0      2220.0      2119.0   \n",
      "4                        4      2713.0       2016.0      2321.0      2019.0   \n",
      "5                        5      3422.0       3120.0      2029.0      2618.0   \n",
      "6                        7      3509.0       3505.0      3307.0      3408.0   \n",
      "7                        8      3031.0       2309.0       636.0      1031.0   \n",
      "8                        9      2823.0       2214.0      2715.0      1723.0   \n",
      "9                       10      2412.0       2816.0      1722.0      2016.0   \n",
      "10                      11      1812.0        520.0      3433.0      3228.0   \n",
      "11                      12      3226.0       2834.0      1919.0      2226.0   \n",
      "12                      13      2419.0       2323.0      2322.0      2421.0   \n",
      "13                      14      2824.0       2112.0       921.0      3623.0   \n",
      "14                      15      2921.0       2326.0       734.0      2333.0   \n",
      "15                      16      2829.0       2217.0      3920.0      2815.0   \n",
      "16                      17      2320.0       2116.0      2418.0      2323.0   \n",
      "17                      18      3214.0       3114.0      3123.0      2714.0   \n",
      "18                      19      2018.0       2121.0      1312.0      1415.0   \n",
      "19                      20      1925.0       1628.0      1710.0      2128.0   \n",
      "20                      21         NaN          NaN         NaN         NaN   \n",
      "21                     NaN         NaN          NaN         NaN         NaN   \n",
      "22  Nr 10 = lider formalny         NaN          NaN         NaN         NaN   \n",
      "\n",
      "    Unnamed: 5  Unnamed: 6  Unnamed: 7  Unnamed: 8    N=19  ...  Unnamed: 12  \\\n",
      "0          5.0         6.0         7.0         8.0     9.0  ...         12.0   \n",
      "1       2430.0      1930.0      2625.0      2921.0  1218.0  ...       2311.0   \n",
      "2       2616.0      3330.0      1815.0      2118.0  2819.0  ...       1427.0   \n",
      "3       1819.0      1521.0      2019.0      1919.0  1921.0  ...       1519.0   \n",
      "4       2615.0      1125.0      2021.0      1728.0  2129.0  ...       2621.0   \n",
      "5       2919.0      3425.0      1931.0      3227.0  1926.0  ...       3428.0   \n",
      "6       2107.0      2007.0      3407.0      2907.0  2807.0  ...       3107.0   \n",
      "7        227.0      1013.0      1038.0      2120.0  2137.0  ...       1513.0   \n",
      "8       1427.0      2718.0      1324.0      1619.0  2119.0  ...       1220.0   \n",
      "9       2809.0      1710.0      2120.0      2012.0  2812.0  ...       1718.0   \n",
      "10      2536.0      2715.0      3133.0      1123.0   809.0  ...       3108.0   \n",
      "11      1821.0      2923.0      2122.0      3428.0  1833.0  ...       2528.0   \n",
      "12      2122.0      2024.0      1921.0      2118.0  2218.0  ...       1923.0   \n",
      "13      3319.0      2425.0      3717.0      1530.0  3509.0  ...        234.0   \n",
      "14       707.0       815.0       826.0      3331.0  3207.0  ...        337.0   \n",
      "15      2919.0      2225.0      3917.0      1723.0   505.0  ...        438.0   \n",
      "16      2521.0      2223.0      2422.0      2021.0  1919.0  ...       2221.0   \n",
      "17      2705.0      2409.0      3122.0      3011.0  3509.0  ...       3615.0   \n",
      "18      1613.0      1118.0      1412.0      1424.0   712.0  ...       1219.0   \n",
      "19      1322.0      2014.0      1828.0      2118.0  1315.0  ...       1916.0   \n",
      "20         NaN         NaN         NaN         NaN     NaN  ...          NaN   \n",
      "21         NaN         NaN         NaN         NaN     NaN  ...          NaN   \n",
      "22         NaN         NaN         NaN         NaN     NaN  ...          NaN   \n",
      "\n",
      "    Unnamed: 13  Unnamed: 14    ZIMA  Unnamed: 16  Unnamed: 17  \\\n",
      "0          13.0         14.0    15.0         16.0         17.0   \n",
      "1        2812.0       1526.0  2520.0       2120.0       1224.0   \n",
      "2        1823.0       2912.0  2510.0       3115.0       2722.0   \n",
      "3        2219.0       1821.0  2121.0       1421.0       1619.0   \n",
      "4        1716.0       1427.0  2216.0       1327.0       2628.0   \n",
      "5        2916.0       2313.0  2821.0       2213.0       2025.0   \n",
      "6        3306.0       2607.0  3309.0       2507.0       2407.0   \n",
      "7        1436.0        412.0  2314.0        615.0       2637.0   \n",
      "8        1313.0        828.0  2114.0        629.0       2322.0   \n",
      "9        2322.0       2820.0  2420.0       2611.0       2918.0   \n",
      "10       2730.0       1631.0   918.0       2029.0        207.0   \n",
      "11       2119.0       1428.0  2635.0        931.0       1533.0   \n",
      "12       2120.0       1819.0  2019.0       2017.0       2317.0   \n",
      "13        733.0       2118.0  1708.0       1519.0       3011.0   \n",
      "14        820.0       1812.0  2320.0       1814.0       3334.0   \n",
      "15       2413.0       2019.0  2319.0       2221.0        905.0   \n",
      "16       2524.0       1817.0  2216.0       1917.0       1820.0   \n",
      "17       3121.0       3118.0  3014.0       3117.0       3604.0   \n",
      "18       1410.0        720.0  2021.0        719.0        713.0   \n",
      "19       1928.0       1819.0  1426.0       1519.0       1115.0   \n",
      "20          NaN          NaN     NaN          NaN          NaN   \n",
      "21          NaN          NaN     NaN          NaN          NaN   \n",
      "22          NaN          NaN     NaN          NaN          NaN   \n",
      "\n",
      "    1978-12-29 00:00:00  Unnamed: 19  Unnamed: 20  Unnamed: 21  \n",
      "0                  18.0         19.0         20.0         21.0  \n",
      "1                2012.0       1822.0       2915.0          NaN  \n",
      "2                2222.0       2525.0       2020.0          NaN  \n",
      "3                1621.0       2319.0       1721.0          NaN  \n",
      "4                2429.0       2623.0       2028.0          NaN  \n",
      "5                3024.0       2825.0       2724.0          NaN  \n",
      "6                2307.0       3007.0       2207.0          NaN  \n",
      "7                2812.0       3020.0       3112.0          NaN  \n",
      "8                1826.0       1018.0       1416.0          NaN  \n",
      "9                2008.0       2408.0       2010.0          NaN  \n",
      "10               1518.0        632.0       1321.0          NaN  \n",
      "11               3028.0       2525.0       3030.0          NaN  \n",
      "12               1817.0       2116.0       2420.0          NaN  \n",
      "13               1536.0       2831.0       2234.0          NaN  \n",
      "14               2303.0        305.0       2211.0          NaN  \n",
      "15               1621.0       2027.0       1821.0          NaN  \n",
      "16               2121.0       2119.0       2022.0          NaN  \n",
      "17               3109.0       3315.0       3110.0          NaN  \n",
      "18               1523.0       1419.0       1423.0          NaN  \n",
      "19               2124.0       1521.0       1721.0          NaN  \n",
      "20                  NaN          NaN          NaN          NaN  \n",
      "21                  NaN          NaN          NaN          NaN  \n",
      "22                  NaN          NaN          NaN          NaN  \n",
      "\n",
      "[23 rows x 22 columns]\n"
     ]
    }
   ],
   "source": [
    "rand_int = int(numpy.random.rand() * 26)\n",
    "print(data_dict[rand_int])"
   ]
  },
  {
   "cell_type": "code",
   "execution_count": null,
   "metadata": {},
   "outputs": [],
   "source": []
  },
  {
   "cell_type": "code",
   "execution_count": null,
   "metadata": {},
   "outputs": [],
   "source": []
  }
 ],
 "metadata": {
  "kernelspec": {
   "display_name": "Python 3",
   "language": "python",
   "name": "python3"
  },
  "language_info": {
   "codemirror_mode": {
    "name": "ipython",
    "version": 3
   },
   "file_extension": ".py",
   "mimetype": "text/x-python",
   "name": "python",
   "nbconvert_exporter": "python",
   "pygments_lexer": "ipython3",
   "version": "3.8.5"
  }
 },
 "nbformat": 4,
 "nbformat_minor": 4
}
