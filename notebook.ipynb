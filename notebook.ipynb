{
 "cells": [
  {
   "cell_type": "code",
   "execution_count": 1,
   "metadata": {},
   "outputs": [],
   "source": [
    "import tensorflow\n",
    "import stellargraph\n",
    "import numpy\n",
    "import matplotlib\n",
    "import os.path\n",
    "import pandas\n",
    "import datetime\n",
    "import re"
   ]
  },
  {
   "cell_type": "markdown",
   "metadata": {},
   "source": [
    "Please notice, to open jupyter in custom directory use:\n",
    ">jupyter notebook --notebook-dir=[your_directory]"
   ]
  },
  {
   "cell_type": "markdown",
   "metadata": {},
   "source": [
    "Expecting file hierarchy:\n",
    "    <ul>root/\n",
    "        <li>Antarctica_research_2020/\n",
    "            <ul>.git/</ul>\n",
    "            <ul>.gitignore</ul>\n",
    "            <ul>readme.md</ul>\n",
    "            <ul>notebook.ipynb</ul></li>\n",
    "        <li>data/\n",
    "            <ul>Sesja 1.xlsx</ul>\n",
    "            <ul>.</ul>\n",
    "            <ul>.</ul>\n",
    "            <ul>Sesja 26.xlsx</ul></li>\n",
    "    </ul>"
   ]
  },
  {
   "cell_type": "code",
   "execution_count": 2,
   "metadata": {},
   "outputs": [],
   "source": [
    "# Let me write in advantage examined peoples' occupations:\n",
    "ppl_professions = {1: \"to be filled up\",\n",
    "                  2: \"to be filled up\",\n",
    "                  3: \"to be filled up\",\n",
    "                  4: \"to be filled up\",\n",
    "                  5: \"to be filled up\",\n",
    "                  6: \"to be filled up\",   # UWAGA - nr 6 przybył na stację 25.04.79r\n",
    "                  7: \"to be filled up\",\n",
    "                  8: \"to be filled up\",\n",
    "                  9: \"to be filled up\",\n",
    "                  10: \"to be filled up\",\n",
    "                  11: \"to be filled up\",\n",
    "                  12: \"to be filled up\",\n",
    "                  13: \"to be filled up\",\n",
    "                  14: \"to be filled up\",\n",
    "                  15: \"to be filled up\",\n",
    "                  16: \"to be filled up\",\n",
    "                  17: \"to be filled up\",\n",
    "                  18: \"to be filled up\",\n",
    "                  19: \"to be filled up\",\n",
    "                  20: \"to be filled up\",\n",
    "                  21: \"to be filled up\"\n",
    "                  }"
   ]
  },
  {
   "cell_type": "code",
   "execution_count": 3,
   "metadata": {},
   "outputs": [
    {
     "name": "stdout",
     "output_type": "stream",
     "text": [
      "['Sesja 1.xlsx', 'Sesja 10.xlsx', 'Sesja 11.xlsx', 'Sesja 12.xlsx', 'Sesja 13.xlsx', 'Sesja 14.xlsx', 'Sesja 15.xlsx', 'Sesja 16.xlsx', 'Sesja 17.xlsx', 'Sesja 18.xlsx', 'Sesja 19.xlsx', 'Sesja 2.xlsx', 'Sesja 20.xlsx', 'Sesja 21.xlsx', 'Sesja 22.xlsx', 'Sesja 23.xlsx', 'Sesja 24.xlsx', 'Sesja 25.xlsx', 'Sesja 26.xlsx', 'Sesja 3.xlsx', 'Sesja 4.xlsx', 'Sesja 5.xlsx', 'Sesja 6.xlsx', 'Sesja 7.xlsx', 'Sesja 8.xlsx', 'Sesja 9.xlsx']\n"
     ]
    }
   ],
   "source": [
    "data_path = \"../data/\"\n",
    "file_list = [name for name in os.listdir(data_path)]\n",
    "print(file_list)"
   ]
  },
  {
   "cell_type": "code",
   "execution_count": 4,
   "metadata": {},
   "outputs": [
    {
     "name": "stdout",
     "output_type": "stream",
     "text": [
      "{1: 'Sesja 1.xlsx', 2: 'Sesja 2.xlsx', 3: 'Sesja 3.xlsx', 4: 'Sesja 4.xlsx', 5: 'Sesja 5.xlsx', 6: 'Sesja 6.xlsx', 7: 'Sesja 7.xlsx', 8: 'Sesja 8.xlsx', 9: 'Sesja 9.xlsx', 10: 'Sesja 10.xlsx', 11: 'Sesja 11.xlsx', 12: 'Sesja 12.xlsx', 13: 'Sesja 13.xlsx', 14: 'Sesja 14.xlsx', 15: 'Sesja 15.xlsx', 16: 'Sesja 16.xlsx', 17: 'Sesja 17.xlsx', 18: 'Sesja 18.xlsx', 19: 'Sesja 19.xlsx', 20: 'Sesja 20.xlsx', 21: 'Sesja 21.xlsx', 22: 'Sesja 22.xlsx', 23: 'Sesja 23.xlsx', 24: 'Sesja 24.xlsx', 25: 'Sesja 25.xlsx', 26: 'Sesja 26.xlsx'}\n"
     ]
    }
   ],
   "source": [
    "# Sessions order is important, let me get sorted file info\n",
    "sorted_filenames = dict()\n",
    "for name in file_list:\n",
    "    list_of_digits = list(map(int, filter(str.isdigit, name)))\n",
    "    sorted_filenames[name] = list_of_digits[0] if len(list_of_digits) == 1 else list_of_digits[1] + list_of_digits[0]*10\n",
    "sorted_filenames = sorted(sorted_filenames.items(), key=lambda el: el[1])\n",
    "sorted_filenames = {val: key for key, val in sorted_filenames}\n",
    "print(sorted_filenames)"
   ]
  },
  {
   "cell_type": "code",
   "execution_count": 5,
   "metadata": {},
   "outputs": [],
   "source": [
    "# Loading data\n",
    "data_dict = dict()\n",
    "for key, val in sorted_filenames.items():\n",
    "    data_dict[key] = pandas.read_excel(data_path + val, header=None, dtype=object)"
   ]
  },
  {
   "cell_type": "code",
   "execution_count": 6,
   "metadata": {},
   "outputs": [
    {
     "data": {
      "text/html": [
       "<div>\n",
       "<style scoped>\n",
       "    .dataframe tbody tr th:only-of-type {\n",
       "        vertical-align: middle;\n",
       "    }\n",
       "\n",
       "    .dataframe tbody tr th {\n",
       "        vertical-align: top;\n",
       "    }\n",
       "\n",
       "    .dataframe thead th {\n",
       "        text-align: right;\n",
       "    }\n",
       "</style>\n",
       "<table border=\"1\" class=\"dataframe\">\n",
       "  <thead>\n",
       "    <tr style=\"text-align: right;\">\n",
       "      <th></th>\n",
       "      <th>0</th>\n",
       "      <th>1</th>\n",
       "      <th>2</th>\n",
       "      <th>3</th>\n",
       "      <th>4</th>\n",
       "      <th>5</th>\n",
       "      <th>6</th>\n",
       "      <th>7</th>\n",
       "      <th>8</th>\n",
       "      <th>9</th>\n",
       "      <th>...</th>\n",
       "      <th>12</th>\n",
       "      <th>13</th>\n",
       "      <th>14</th>\n",
       "      <th>15</th>\n",
       "      <th>16</th>\n",
       "      <th>17</th>\n",
       "      <th>18</th>\n",
       "      <th>19</th>\n",
       "      <th>20</th>\n",
       "      <th>21</th>\n",
       "    </tr>\n",
       "  </thead>\n",
       "  <tbody>\n",
       "    <tr>\n",
       "      <th>0</th>\n",
       "      <td>NaN</td>\n",
       "      <td>Pozycja osoby</td>\n",
       "      <td>NaN</td>\n",
       "      <td>NaN</td>\n",
       "      <td>NaN</td>\n",
       "      <td>NaN</td>\n",
       "      <td>NaN</td>\n",
       "      <td>NaN</td>\n",
       "      <td>NaN</td>\n",
       "      <td>NaN</td>\n",
       "      <td>...</td>\n",
       "      <td>N = 20</td>\n",
       "      <td>NaN</td>\n",
       "      <td>NaN</td>\n",
       "      <td>1979-03-12 00:00:00</td>\n",
       "      <td>NaN</td>\n",
       "      <td>NaN</td>\n",
       "      <td>NaN</td>\n",
       "      <td>ZIM6</td>\n",
       "      <td>NaN</td>\n",
       "      <td>NaN</td>\n",
       "    </tr>\n",
       "    <tr>\n",
       "      <th>1</th>\n",
       "      <td>Nr O.B.</td>\n",
       "      <td>1</td>\n",
       "      <td>2</td>\n",
       "      <td>3</td>\n",
       "      <td>4</td>\n",
       "      <td>5</td>\n",
       "      <td>6</td>\n",
       "      <td>7</td>\n",
       "      <td>8</td>\n",
       "      <td>9</td>\n",
       "      <td>...</td>\n",
       "      <td>12</td>\n",
       "      <td>13</td>\n",
       "      <td>14</td>\n",
       "      <td>15</td>\n",
       "      <td>16</td>\n",
       "      <td>17</td>\n",
       "      <td>18</td>\n",
       "      <td>19</td>\n",
       "      <td>20</td>\n",
       "      <td>21</td>\n",
       "    </tr>\n",
       "    <tr>\n",
       "      <th>2</th>\n",
       "      <td>1</td>\n",
       "      <td>2420</td>\n",
       "      <td>2417</td>\n",
       "      <td>2430</td>\n",
       "      <td>2730</td>\n",
       "      <td>3027</td>\n",
       "      <td>x</td>\n",
       "      <td>3217</td>\n",
       "      <td>2425</td>\n",
       "      <td>1423</td>\n",
       "      <td>...</td>\n",
       "      <td>1613</td>\n",
       "      <td>2010</td>\n",
       "      <td>1832</td>\n",
       "      <td>2121</td>\n",
       "      <td>2422</td>\n",
       "      <td>x</td>\n",
       "      <td>1628</td>\n",
       "      <td>1918</td>\n",
       "      <td>2306</td>\n",
       "      <td>2908</td>\n",
       "    </tr>\n",
       "    <tr>\n",
       "      <th>3</th>\n",
       "      <td>2</td>\n",
       "      <td>2313</td>\n",
       "      <td>2300</td>\n",
       "      <td>2509</td>\n",
       "      <td>1807</td>\n",
       "      <td>1715</td>\n",
       "      <td>x</td>\n",
       "      <td>2010</td>\n",
       "      <td>2014</td>\n",
       "      <td>2619</td>\n",
       "      <td>...</td>\n",
       "      <td>2130</td>\n",
       "      <td>3022</td>\n",
       "      <td>2814</td>\n",
       "      <td>2403</td>\n",
       "      <td>1428</td>\n",
       "      <td>2624</td>\n",
       "      <td>2124</td>\n",
       "      <td>1723</td>\n",
       "      <td>1222</td>\n",
       "      <td>1718</td>\n",
       "    </tr>\n",
       "  </tbody>\n",
       "</table>\n",
       "<p>4 rows × 22 columns</p>\n",
       "</div>"
      ],
      "text/plain": [
       "        0              1     2     3     4     5    6     7     8     9   ...  \\\n",
       "0      NaN  Pozycja osoby   NaN   NaN   NaN   NaN  NaN   NaN   NaN   NaN  ...   \n",
       "1  Nr O.B.              1     2     3     4     5    6     7     8     9  ...   \n",
       "2        1           2420  2417  2430  2730  3027    x  3217  2425  1423  ...   \n",
       "3        2           2313  2300  2509  1807  1715    x  2010  2014  2619  ...   \n",
       "\n",
       "       12    13    14                   15    16    17    18    19    20    21  \n",
       "0  N = 20   NaN   NaN  1979-03-12 00:00:00   NaN   NaN   NaN  ZIM6   NaN   NaN  \n",
       "1      12    13    14                   15    16    17    18    19    20    21  \n",
       "2    1613  2010  1832                 2121  2422     x  1628  1918  2306  2908  \n",
       "3    2130  3022  2814                 2403  1428  2624  2124  1723  1222  1718  \n",
       "\n",
       "[4 rows x 22 columns]"
      ]
     },
     "execution_count": 6,
     "metadata": {},
     "output_type": "execute_result"
    }
   ],
   "source": [
    "rand_int = int(numpy.random.rand() * 26)\n",
    "data_dict[rand_int].head(4)\n",
    "# An example:"
   ]
  },
  {
   "cell_type": "markdown",
   "metadata": {},
   "source": [
    "The target format for data is a stellargraph graph for each session (session -> data recording occuring every two week). But before that, let me read the data into intermediate objects:"
   ]
  },
  {
   "cell_type": "code",
   "execution_count": 7,
   "metadata": {},
   "outputs": [],
   "source": [
    "class Session(object):\n",
    "    def __init__(self, raw_session_data):\n",
    "        self.date = self.find_date(raw_session_data)\n",
    "        self.relations = self.get_relations(raw_session_data) # dictionary of lists of tuples - column_number : [(x1, y1), (x2, y2), ...]\n",
    "    \n",
    "    def get_relations(self, raw_session_data) -> dict:\n",
    "        rels = dict()\n",
    "        col_no = len(ppl_professions)\n",
    "        rels = {x: [] for x in range(1, col_no + 1)}\n",
    "        for person in range(2, col_no + 1):\n",
    "            for entry in range(1, col_no):\n",
    "                string_value = str(raw_session_data.iloc[person, entry])\n",
    "                subject_no = raw_session_data.iloc[person, 0]\n",
    "                data_point = self.tuple_from_string(string_value)\n",
    "                rels[subject_no].append(data_point)\n",
    "                \n",
    "        return rels\n",
    "    \n",
    "    def tuple_from_string(self, string) -> tuple:\n",
    "        if string == 'nan':\n",
    "            return None\n",
    "        elif len(string) == 4:\n",
    "            x = int(string[1]) + int(string[0]) * 10\n",
    "            y = int(string[3]) + int(string[2]) * 10\n",
    "            return (x, y)\n",
    "        elif len(string) == 3:\n",
    "            x = int(string[0])\n",
    "            y = int(string[2]) + int(string[1]) * 10\n",
    "            return (x, y)\n",
    "        else:\n",
    "            return None\n",
    "    \n",
    "    def find_date(self, raw_session_data) -> str:\n",
    "        for key, col in raw_session_data.iteritems():\n",
    "            for val in col:\n",
    "                regex = re.search(r\"\\d{1,2}.\\d{1,2}.\\d{4}|\\d{4}.\\d{1,2}.\\d{1,2}\", str(val))\n",
    "                if regex:\n",
    "                    return regex.group()\n",
    "                \n",
    "    def __str__(self):\n",
    "        random = int(numpy.random.rand() * len(ppl_professions))\n",
    "        return \"Session from \" + self.date + \" example entry: \" + str(self.relations[random]) + \" for \" + str(random)"
   ]
  },
  {
   "cell_type": "code",
   "execution_count": 9,
   "metadata": {},
   "outputs": [
    {
     "name": "stdout",
     "output_type": "stream",
     "text": [
      "Session from 1978-12-29 example entry: [(18, 12), (5, 20), (34, 33), (32, 28), (25, 36), (27, 15), (31, 33), (11, 23), (8, 9), (2, 22), (18, 20), (31, 8), (27, 30), (16, 31), (9, 18), (20, 29), (2, 7), (15, 18), (6, 32), (13, 21)] for 11\n",
      "Session from 1980-01-10 example entry: [(34, 35), (23, 22), (32, 29), (32, 33), (30, 31), (37, 4), (28, 29), (27, 27), (25, 25), (23, 16), (25, 14), (17, 23), (20, 17), (21, 19), (35, 6), (18, 13), (15, 26), (38, 10), (39, 38), (39, 3)] for 14\n"
     ]
    }
   ],
   "source": [
    "session_data = [Session(e) for e in data_dict.values()]\n",
    "print(session_data[0])\n",
    "print(session_data[-1])"
   ]
  },
  {
   "cell_type": "code",
   "execution_count": null,
   "metadata": {},
   "outputs": [],
   "source": [
    "class Person(object):\n",
    "    def __init__(self, person_no, particular_person_profession):\n",
    "        self.person_no = person_no\n",
    "        self.profession = particular_person_profession\n",
    "        self.sessions_dict = self.get_all_relations()\n",
    "        \n",
    "    def get_all_relations(self) -> dict:\n",
    "        pass\n",
    "    \n",
    "    def get_all_relative_vectors(self) -> dict:\n",
    "        pass\n",
    "    \n",
    "    def get_all_distances(self) -> dict:\n",
    "        pass\n",
    "    \n",
    "    def get_particular_rel_list(self, other: Person) - list:\n",
    "        pass\n",
    "    \n",
    "    def __str__(self):\n",
    "        return \"\""
   ]
  },
  {
   "cell_type": "code",
   "execution_count": null,
   "metadata": {},
   "outputs": [],
   "source": []
  },
  {
   "cell_type": "code",
   "execution_count": null,
   "metadata": {},
   "outputs": [],
   "source": []
  }
 ],
 "metadata": {
  "kernelspec": {
   "display_name": "Python 3",
   "language": "python",
   "name": "python3"
  },
  "language_info": {
   "codemirror_mode": {
    "name": "ipython",
    "version": 3
   },
   "file_extension": ".py",
   "mimetype": "text/x-python",
   "name": "python",
   "nbconvert_exporter": "python",
   "pygments_lexer": "ipython3",
   "version": "3.8.5"
  }
 },
 "nbformat": 4,
 "nbformat_minor": 4
}
